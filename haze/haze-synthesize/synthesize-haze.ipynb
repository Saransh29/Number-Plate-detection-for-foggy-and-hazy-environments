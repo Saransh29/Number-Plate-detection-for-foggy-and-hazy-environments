{
 "cells": [
  {
   "cell_type": "markdown",
   "metadata": {},
   "source": [
    "## Import"
   ]
  },
  {
   "cell_type": "code",
   "execution_count": 1,
   "metadata": {},
   "outputs": [],
   "source": [
    "import os\n",
    "import cv2\n",
    "import numpy as np\n",
    "import matplotlib.pyplot as plt\n",
    "from PIL import Image"
   ]
  },
  {
   "cell_type": "code",
   "execution_count": null,
   "metadata": {},
   "outputs": [],
   "source": []
  },
  {
   "cell_type": "markdown",
   "metadata": {},
   "source": [
    "## Make Hazy Data"
   ]
  },
  {
   "cell_type": "code",
   "execution_count": 2,
   "metadata": {},
   "outputs": [],
   "source": [
    "def get_file_name(path):\n",
    "    basename = os.path.basename(path)\n",
    "    onlyname = os.path.splitext(basename)[0]\n",
    "    return onlyname\n",
    "\n",
    "def gen_haze(img, depth_img):\n",
    "    \n",
    "    depth_img_3c = np.zeros_like(img)\n",
    "    depth_img_3c[:,:,0] = depth_img\n",
    "    depth_img_3c[:,:,1] = depth_img\n",
    "    depth_img_3c[:,:,2] = depth_img\n",
    "\n",
    "    beta = random.randint(100,150)/100\n",
    "    norm_depth_img = depth_img_3c/255\n",
    "    trans = np.exp(-norm_depth_img*beta)\n",
    "\n",
    "    A = 255\n",
    "    hazy = img*trans + A*(1-trans)\n",
    "    hazy = np.array(hazy, dtype=np.uint8)\n",
    "    \n",
    "    return hazy"
   ]
  },
  {
   "cell_type": "code",
   "execution_count": 4,
   "metadata": {},
   "outputs": [
    {
     "name": "stdout",
     "output_type": "stream",
     "text": [
      "baleno\n"
     ]
    },
    {
     "ename": "ValueError",
     "evalue": "could not broadcast input array from shape (640,640,3) into shape (640,640)",
     "output_type": "error",
     "traceback": [
      "\u001b[1;31m---------------------------------------------------------------------------\u001b[0m",
      "\u001b[1;31mValueError\u001b[0m                                Traceback (most recent call last)",
      "Cell \u001b[1;32mIn[4], line 14\u001b[0m\n\u001b[0;32m     11\u001b[0m depth_img \u001b[39m=\u001b[39m plt\u001b[39m.\u001b[39mimread(depth_path)\n\u001b[0;32m     13\u001b[0m depth_img_3c \u001b[39m=\u001b[39m np\u001b[39m.\u001b[39mzeros_like(img)\n\u001b[1;32m---> 14\u001b[0m depth_img_3c[:,:,\u001b[39m0\u001b[39;49m] \u001b[39m=\u001b[39m depth_img\n\u001b[0;32m     15\u001b[0m depth_img_3c[:,:,\u001b[39m1\u001b[39m] \u001b[39m=\u001b[39m depth_img\n\u001b[0;32m     16\u001b[0m depth_img_3c[:,:,\u001b[39m2\u001b[39m] \u001b[39m=\u001b[39m depth_img\n",
      "\u001b[1;31mValueError\u001b[0m: could not broadcast input array from shape (640,640,3) into shape (640,640)"
     ]
    }
   ],
   "source": [
    "# fname = \"val01-25-20-1-FRONT\"\n",
    "fname =\"baleno\"\n",
    "path = f\"data/{fname}.jpg\"\n",
    "\n",
    "print(fname)\n",
    "\n",
    "# img = plt.imread(path)\n",
    "img = Image.open(path).convert('RGB')\n",
    "\n",
    "depth_path = f\"data/{fname}_depth.jpeg\"\n",
    "depth_img = plt.imread(depth_path)\n",
    "\n",
    "depth_img_3c = np.zeros_like(img)\n",
    "depth_img_3c[:,:,0] = depth_img\n",
    "depth_img_3c[:,:,1] = depth_img\n",
    "depth_img_3c[:,:,2] = depth_img\n",
    "\n",
    "beta=0.95\n",
    "norm_depth_img = depth_img_3c/255\n",
    "trans = np.exp(-norm_depth_img*beta)\n",
    "\n",
    "beta2=3.0\n",
    "trans2 = np.exp(-norm_depth_img*beta2)\n",
    "\n",
    "A = 255\n",
    "hazy = img*trans + A*(1-trans)\n",
    "hazy = np.array(hazy, dtype=np.uint8)\n",
    "\n",
    "# hazy2 = img*trans2 + A*(1-trans2)\n",
    "# hazy2 = np.array(hazy2, dtype=np.uint8)\n",
    "\n",
    "plt.figure(figsize=(16,18))\n",
    "plt.subplot(321), plt.imshow(img)\n",
    "plt.subplot(322), plt.imshow(depth_img, cmap=\"gray\")\n",
    "plt.subplot(323), plt.imshow(trans, cmap=\"gray\")\n",
    "plt.subplot(324), plt.imshow(hazy)\n",
    "# plt.subplot(325), plt.imshow(trans2, cmap=\"gray\")\n",
    "# plt.subplot(326), plt.imshow(hazy2)\n",
    "plt.show()"
   ]
  },
  {
   "cell_type": "code",
   "execution_count": null,
   "metadata": {},
   "outputs": [
    {
     "data": {
      "text/plain": [
       "True"
      ]
     },
     "execution_count": 7,
     "metadata": {},
     "output_type": "execute_result"
    }
   ],
   "source": [
    "cv2.imwrite(f\"{fname}_syn.jpg\", cv2.cvtColor(hazy, cv2.COLOR_BGR2RGB))"
   ]
  },
  {
   "cell_type": "code",
   "execution_count": null,
   "metadata": {},
   "outputs": [],
   "source": []
  }
 ],
 "metadata": {
  "kernelspec": {
   "display_name": "Python 3",
   "language": "python",
   "name": "python3"
  },
  "language_info": {
   "codemirror_mode": {
    "name": "ipython",
    "version": 3
   },
   "file_extension": ".py",
   "mimetype": "text/x-python",
   "name": "python",
   "nbconvert_exporter": "python",
   "pygments_lexer": "ipython3",
   "version": "3.10.8"
  }
 },
 "nbformat": 4,
 "nbformat_minor": 5
}
